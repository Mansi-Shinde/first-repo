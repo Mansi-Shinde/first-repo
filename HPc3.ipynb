{
  "nbformat": 4,
  "nbformat_minor": 0,
  "metadata": {
    "colab": {
      "provenance": [],
      "authorship_tag": "ABX9TyO2+EfjGDTTfOg5+idjD/Y8",
      "include_colab_link": true
    },
    "kernelspec": {
      "name": "python3",
      "display_name": "Python 3"
    },
    "language_info": {
      "name": "python"
    }
  },
  "cells": [
    {
      "cell_type": "markdown",
      "metadata": {
        "id": "view-in-github",
        "colab_type": "text"
      },
      "source": [
        "<a href=\"https://colab.research.google.com/github/Mansi-Shinde/first-repo/blob/master/HPc3.ipynb\" target=\"_parent\"><img src=\"https://colab.research.google.com/assets/colab-badge.svg\" alt=\"Open In Colab\"/></a>"
      ]
    },
    {
      "cell_type": "markdown",
      "source": [
        "Min, max"
      ],
      "metadata": {
        "id": "E974R1aTBpuM"
      }
    },
    {
      "cell_type": "code",
      "execution_count": null,
      "metadata": {
        "id": "RihCM6P6BEIJ"
      },
      "outputs": [],
      "source": [
        "#include <iostream>\n",
        "//#include <vector>\n",
        "#include <omp.h>\n",
        "#include <climits>\n",
        "using namespace std;\n",
        "void min_reduction(int arr[], int n) {\n",
        "  int min_value = INT_MAX;\n",
        "  #pragma omp parallel for reduction(min: min_value)\n",
        "  for (int i = 0; i < n; i++) {\n",
        "\tif (arr[i] < min_value) {\n",
        "  \tmin_value = arr[i];\n",
        "\t}\n",
        "  }\n",
        "  cout << \"Minimum value: \" << min_value << endl;\n",
        "}\n",
        "\n",
        "void max_reduction(int arr[], int n) {\n",
        "  int max_value = INT_MIN;\n",
        "  #pragma omp parallel for reduction(max: max_value)\n",
        "  for (int i = 0; i < n; i++) {\n",
        "\tif (arr[i] > max_value) {\n",
        "  \tmax_value = arr[i];\n",
        "\t}\n",
        "  }\n",
        "  cout << \"Maximum value: \" << max_value << endl;\n",
        "}\n",
        "\n",
        "void sum_reduction(int arr[], int n) {\n",
        "  int sum = 0;\n",
        "   #pragma omp parallel for reduction(+: sum)\n",
        "   for (int i = 0; i < n; i++) {\n",
        "\tsum += arr[i];\n",
        "  }\n",
        "  cout << \"Sum: \" << sum << endl;\n",
        "}\n",
        "\n",
        "void average_reduction(int arr[], int n) {\n",
        "  int sum = 0;\n",
        "  #pragma omp parallel for reduction(+: sum)\n",
        "  for (int i = 0; i < n; i++) {\n",
        "\tsum += arr[i];\n",
        "  }\n",
        "  cout << \"Average: \" << (double)sum / (n-1) << endl;\n",
        "}\n",
        "\n",
        "int main() {\n",
        "    int *arr,n;\n",
        "    cout<<\"\\n enter total no of elements=>\";\n",
        "    cin>>n;\n",
        "    arr=new int[n];\n",
        "    cout<<\"\\n enter elements=>\";\n",
        "    for(int i=0;i<n;i++)\n",
        "    {\n",
        "   \t cin>>arr[i];\n",
        "    }\n",
        "\n",
        "//   int arr[] = {5, 2, 9, 1, 7, 6, 8, 3, 4};\n",
        "//   int n = size(arr);\n",
        "\n",
        "  min_reduction(arr, n);\n",
        "  max_reduction(arr, n);\n",
        "  sum_reduction(arr, n);\n",
        "  average_reduction(arr, n);\n",
        "}\n"
      ]
    }
  ]
}