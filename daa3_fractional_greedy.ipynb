{
  "nbformat": 4,
  "nbformat_minor": 0,
  "metadata": {
    "colab": {
      "provenance": [],
      "authorship_tag": "ABX9TyMMPArAfLMcs/+Coog0xaoS",
      "include_colab_link": true
    },
    "kernelspec": {
      "name": "python3",
      "display_name": "Python 3"
    },
    "language_info": {
      "name": "python"
    }
  },
  "cells": [
    {
      "cell_type": "markdown",
      "metadata": {
        "id": "view-in-github",
        "colab_type": "text"
      },
      "source": [
        "<a href=\"https://colab.research.google.com/github/Mansi-Shinde/first-repo/blob/master/daa3_fractional_greedy.ipynb\" target=\"_parent\"><img src=\"https://colab.research.google.com/assets/colab-badge.svg\" alt=\"Open In Colab\"/></a>"
      ]
    },
    {
      "cell_type": "code",
      "execution_count": 1,
      "metadata": {
        "colab": {
          "base_uri": "https://localhost:8080/"
        },
        "id": "EPhWK-kYA9v8",
        "outputId": "f33f253c-f4ea-4bd8-f208-8ecf1b30d7f6"
      },
      "outputs": [
        {
          "output_type": "stream",
          "name": "stdout",
          "text": [
            "Maximum value we can obtain = 240.0\n"
          ]
        }
      ],
      "source": [
        "# Structure for an item which stores weight and\n",
        "# corresponding value of Item\n",
        "class Item:\n",
        "    def __init__(self, value, weight):\n",
        "        self.value = value\n",
        "        self.weight = weight\n",
        " \n",
        "# Main greedy function to solve problem\n",
        "def fractionalKnapsack(W, arr):\n",
        " \n",
        "    # sorting Item on basis of ratio\n",
        "    arr.sort(key=lambda x: (x.value/x.weight), reverse=True)\n",
        " \n",
        "    # Uncomment to see new order of Items with their\n",
        "    # ratio\n",
        "    # for item in arr:\n",
        "    #     print(item.value, item.weight, item.value/item.weight)\n",
        " \n",
        "    # Result(value in Knapsack)\n",
        "    finalvalue = 0.0\n",
        " \n",
        "    # Looping through all Items\n",
        "    for item in arr:\n",
        " \n",
        "        # If adding Item won't overflow, add it completely\n",
        "        if item.weight <= W:\n",
        "            W -= item.weight\n",
        "            finalvalue += item.value\n",
        " \n",
        "        # If we can't add current Item, add fractional part\n",
        "        # of it\n",
        "        else:\n",
        "            finalvalue += item.value * W / item.weight\n",
        "            break\n",
        "    # Returning final value\n",
        "    return finalvalue\n",
        " \n",
        " \n",
        "# Driver's Code\n",
        "if __name__ == \"__main__\":\n",
        " \n",
        "    # Weight of Knapsack\n",
        "    W = 50\n",
        "    arr = [Item(60, 10), Item(100, 20), Item(120, 30)]\n",
        " \n",
        "    # Function call\n",
        "    max_val = fractionalKnapsack(W, arr)\n",
        "    print ('Maximum value we can obtain = {}'.format(max_val))"
      ]
    }
  ]
}