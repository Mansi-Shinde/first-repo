{
  "nbformat": 4,
  "nbformat_minor": 0,
  "metadata": {
    "colab": {
      "provenance": [],
      "authorship_tag": "ABX9TyNOkzQPyzJhQzGGl8t1cuHC",
      "include_colab_link": true
    },
    "kernelspec": {
      "name": "python3",
      "display_name": "Python 3"
    },
    "language_info": {
      "name": "python"
    }
  },
  "cells": [
    {
      "cell_type": "markdown",
      "metadata": {
        "id": "view-in-github",
        "colab_type": "text"
      },
      "source": [
        "<a href=\"https://colab.research.google.com/github/Mansi-Shinde/first-repo/blob/master/daa4_01knapsack.ipynb\" target=\"_parent\"><img src=\"https://colab.research.google.com/assets/colab-badge.svg\" alt=\"Open In Colab\"/></a>"
      ]
    },
    {
      "cell_type": "markdown",
      "source": [],
      "metadata": {
        "id": "DeOZfPJBB0-S"
      }
    },
    {
      "cell_type": "code",
      "execution_count": 1,
      "metadata": {
        "colab": {
          "base_uri": "https://localhost:8080/"
        },
        "id": "VSewiUROBjXE",
        "outputId": "c2f91cdd-83ce-499c-c786-0ce455d88478"
      },
      "outputs": [
        {
          "output_type": "stream",
          "name": "stdout",
          "text": [
            "Enter number of elements : 3\n",
            "60\n",
            "100\n",
            "120\n",
            "Enter number of elements : 3\n",
            "10\n",
            "20\n",
            "0\n",
            "Enter the capacity: 50\n",
            "280\n"
          ]
        }
      ],
      "source": [
        "# A Dynamic Programming based Python\n",
        "# Program for 0-1 Knapsack problem\n",
        "# Returns the maximum value that can\n",
        "# be put in a knapsack of capacity W\n",
        " \n",
        "\n",
        "def knapSack(W, wt, val, n):\n",
        "    K = [[0 for x in range(W + 1)] for x in range(n + 1)]\n",
        " \n",
        "    # Build table K[][] in bottom up manner\n",
        "    for i in range(n + 1):\n",
        "        for w in range(W + 1):\n",
        "            if i == 0 or w == 0:\n",
        "                K[i][w] = 0\n",
        "            elif wt[i-1] <= w:\n",
        "                K[i][w] = max(val[i-1]\n",
        "                          + K[i-1][w-wt[i-1]], \n",
        "                              K[i-1][w])\n",
        "            else:\n",
        "                K[i][w] = K[i-1][w]\n",
        " \n",
        "    return K[n][W]\n",
        " \n",
        "def InputList():\n",
        "    lst = []\n",
        "    n = int(input(\"Enter number of elements : \"))\n",
        "\n",
        "    for i in range(0, n):\n",
        "        ele = int(input())\n",
        "        lst.append(ele) \n",
        "    \n",
        "    return lst\n",
        "\n",
        "# Driver code\n",
        "#val = [60, 100, 120]\n",
        "val = InputList()\n",
        "#wt = [10, 20, 30]\n",
        "wt = InputList()\n",
        "#W = 50\n",
        "W = int(input(\"Enter the capacity: \"))\n",
        "n = len(val)\n",
        "print(knapSack(W, wt, val, n))\n"
      ]
    }
  ]
}