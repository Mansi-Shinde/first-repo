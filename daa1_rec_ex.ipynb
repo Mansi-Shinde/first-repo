{
  "nbformat": 4,
  "nbformat_minor": 0,
  "metadata": {
    "colab": {
      "provenance": [],
      "authorship_tag": "ABX9TyOwtCJMMrDyF3S7ULX2DpP1",
      "include_colab_link": true
    },
    "kernelspec": {
      "name": "python3",
      "display_name": "Python 3"
    },
    "language_info": {
      "name": "python"
    }
  },
  "cells": [
    {
      "cell_type": "markdown",
      "metadata": {
        "id": "view-in-github",
        "colab_type": "text"
      },
      "source": [
        "<a href=\"https://colab.research.google.com/github/Mansi-Shinde/first-repo/blob/master/daa1_rec_ex.ipynb\" target=\"_parent\"><img src=\"https://colab.research.google.com/assets/colab-badge.svg\" alt=\"Open In Colab\"/></a>"
      ]
    },
    {
      "cell_type": "markdown",
      "source": [
        "## **Program to calsulate e^x series**"
      ],
      "metadata": {
        "id": "cPWVZgsq5OFq"
      }
    },
    {
      "cell_type": "markdown",
      "source": [
        "non-recursive"
      ],
      "metadata": {
        "id": "vnzhvGEM5eM8"
      }
    },
    {
      "cell_type": "code",
      "execution_count": 1,
      "metadata": {
        "colab": {
          "base_uri": "https://localhost:8080/"
        },
        "id": "XaQhXFZp4goM",
        "outputId": "2f5ec6bd-53e7-4b37-a891-82880989548c"
      },
      "outputs": [
        {
          "output_type": "stream",
          "name": "stdout",
          "text": [
            "e^x = 2.7182818011463845\n"
          ]
        }
      ],
      "source": [
        "# Python program to calculate\n",
        "# e raise to the power x\n",
        " \n",
        "# Function to calculate value\n",
        "# using sum of first n terms of\n",
        "# Taylor Series\n",
        "def exponential(n, x):\n",
        " \n",
        "    # initialize sum of series\n",
        "    sum = 1.0\n",
        "    for i in range(n, 0, -1):\n",
        "        sum = 1 + x * sum / i\n",
        "    print (\"e^x =\", sum)\n",
        " \n",
        "# Driver program to test above function\n",
        "n = 10\n",
        "x = 1.0\n",
        "exponential(n, x)\n",
        "#Time Complexity: O(n)\n",
        "#Auxiliary Space: O(1), since no extra space has been taken."
      ]
    },
    {
      "cell_type": "markdown",
      "source": [
        "recursive\n"
      ],
      "metadata": {
        "id": "ODo7Qz635-Z6"
      }
    },
    {
      "cell_type": "code",
      "source": [
        " # Recursive Function\n",
        "# global variables p and f\n",
        "p = 1.0\n",
        "f = 1.0\n",
        " \n",
        " \n",
        "def e(x, n):\n",
        " \n",
        "    global p, f\n",
        " \n",
        "    # Termination condition\n",
        "    if (n == 0):\n",
        "        return 1\n",
        " \n",
        "    # Recursive call\n",
        "    r = e(x, n - 1)\n",
        " \n",
        "    # Update the power of x\n",
        "    p = p * x\n",
        " \n",
        "    # Factorial\n",
        "    f = f * n\n",
        " \n",
        "    return (r + p / f)\n",
        " \n",
        "# Driver code\n",
        " \n",
        " \n",
        "x = 4\n",
        "n = 15\n",
        "print(e(x, n))\n",
        "#tc = o(n^2)\n",
        "#sc = O(n)"
      ],
      "metadata": {
        "colab": {
          "base_uri": "https://localhost:8080/"
        },
        "id": "xEGIt7_k6AHX",
        "outputId": "4b83f75b-6f1c-4b8d-8481-a7ff0d2cf303"
      },
      "execution_count": 3,
      "outputs": [
        {
          "output_type": "stream",
          "name": "stdout",
          "text": [
            "54.5978829056501\n"
          ]
        }
      ]
    }
  ]
}