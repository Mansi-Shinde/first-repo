{
  "nbformat": 4,
  "nbformat_minor": 0,
  "metadata": {
    "colab": {
      "provenance": [],
      "authorship_tag": "ABX9TyPQ3cLhvlKFlDN7NPoLA+wl",
      "include_colab_link": true
    },
    "kernelspec": {
      "name": "python3",
      "display_name": "Python 3"
    },
    "language_info": {
      "name": "python"
    }
  },
  "cells": [
    {
      "cell_type": "markdown",
      "metadata": {
        "id": "view-in-github",
        "colab_type": "text"
      },
      "source": [
        "<a href=\"https://colab.research.google.com/github/Mansi-Shinde/first-repo/blob/master/bt_asn3.ipynb\" target=\"_parent\"><img src=\"https://colab.research.google.com/assets/colab-badge.svg\" alt=\"Open In Colab\"/></a>"
      ]
    },
    {
      "cell_type": "code",
      "execution_count": null,
      "metadata": {
        "id": "zgkSOwc01EBu"
      },
      "outputs": [],
      "source": [
        "//SPDX-License-Identifier: MIT \n",
        "pragma solidity ^0.6;\n",
        "contract banking\n",
        "{\n",
        " mapping(address=>uint) public user_account;\n",
        " mapping(address=>bool) public user_exists;\n",
        " function create_account() public payable returns(string memory)\n",
        " {\n",
        " require(user_exists[msg.sender]==false,'Account already created');\n",
        " if(msg.value==0)\n",
        " {\n",
        "user_account[msg.sender]=0;\n",
        "user_exists[msg.sender]=true;\n",
        " return \"Account created\";\n",
        " }\n",
        " require(user_exists[msg.sender]==false,\"Account already created\");\n",
        "user_account[msg.sender]=msg.value;\n",
        "user_exists[msg.sender]=true;\n",
        " return \"Account created\";\n",
        " }\n",
        " function deposit() public payable returns(string memory)\n",
        " {\n",
        " require(user_exists[msg.sender]==true,\"Account not created\");\n",
        " require(msg.value>0,\"Value for deposit is Zero\");\n",
        "user_account[msg.sender]=user_account[msg.sender]+msg.value;\n",
        " return \"Deposited Successfully\";\n",
        " }\n",
        " function withdraw(uint amount) public payable returns(string memory)\n",
        " {\n",
        "require(user_account[msg.sender]>amount,\"Insufficient Balance\");\n",
        " require(user_exists[msg.sender]==true,\"Account not created\");\n",
        " require(amount>0,\"Amount should be more than zero\");\n",
        "user_account[msg.sender]=user_account[msg.sender]-amount;\n",
        "msg.sender.transfer(amount);\n",
        " return \"Withdrawl Successful\";\n",
        " }\n",
        " function transfer(address payable userAddress, uint amount) public returns(string memory)\n",
        " {\n",
        " require(user_account[msg.sender]>amount,\"Insufficient balance in Bank account\");\n",
        " require(user_exists[msg.sender]==true,\"Account is not created\");\n",
        " require(user_exists[userAddress]==true,\"Transfer account does not exist\");\n",
        " require(amount>0,\"Amount should be more than zero\");\n",
        "user_account[msg.sender]=user_account[msg.sender]-amount;\n",
        "user_account[userAddress]=user_account[userAddress]+amount;\n",
        " return \"Transfer Successful\";\n",
        " }\n",
        " function send_amt(address payable toAddress, uint256 amount) public payable returns(string \n",
        "memory)\n",
        " {\n",
        " require(user_account[msg.sender]>amount,\"Insufficeint balance in Bank account\");\n",
        " require(user_exists[msg.sender]==true,\"Account is not created\");\n",
        " require(amount>0,\"Amount should be more than zero\");\n",
        "user_account[msg.sender]=user_account[msg.sender]-amount;\n",
        "toAddress.transfer(amount);\n",
        " return \"Transfer Success\";\n",
        " }\n",
        " function user_balance() public view returns(uint)\n",
        "{\n",
        " return user_account[msg.sender];\n",
        " }\n",
        " function account_exist() public view returns(bool)\n",
        " {\n",
        " return user_exists[msg.sender];\n",
        " }\n",
        "}"
      ]
    }
  ]
}