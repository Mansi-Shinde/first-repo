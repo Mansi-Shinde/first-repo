{
  "nbformat": 4,
  "nbformat_minor": 0,
  "metadata": {
    "colab": {
      "provenance": [],
      "authorship_tag": "ABX9TyPuhS6CsOde9WeH/Z9zDwNZ",
      "include_colab_link": true
    },
    "kernelspec": {
      "name": "python3",
      "display_name": "Python 3"
    },
    "language_info": {
      "name": "python"
    }
  },
  "cells": [
    {
      "cell_type": "markdown",
      "metadata": {
        "id": "view-in-github",
        "colab_type": "text"
      },
      "source": [
        "<a href=\"https://colab.research.google.com/github/Mansi-Shinde/first-repo/blob/master/bt_asn4.ipynb\" target=\"_parent\"><img src=\"https://colab.research.google.com/assets/colab-badge.svg\" alt=\"Open In Colab\"/></a>"
      ]
    },
    {
      "cell_type": "code",
      "execution_count": null,
      "metadata": {
        "id": "TUDhyZW21gTi"
      },
      "outputs": [],
      "source": [
        "//SPDX-License-Identifier: MIT\n",
        "pragma solidity ^0.8;\n",
        "contract Student_management\n",
        "{\n",
        "struct Student {\n",
        " int stud_id;\n",
        " string name;\n",
        " string department;\n",
        " }\n",
        " Student[] Students;\n",
        " function add_stud(int stud_id,string memory name, string memory department) public{\n",
        " Student memory stud = Student(stud_id,name,department);\n",
        "Students.push(stud);\n",
        " }\n",
        " function getStudent(int stud_id) public view returns(string memory, string memory){\n",
        " for (uint i=0;i<Students.length;i++){\n",
        " Student memory stud = Students[i];\n",
        " if(stud.stud_id==stud_id){\n",
        " return(stud.name,stud.department);\n",
        " }\n",
        " }\n",
        " return(\"Not Found\", \"Not Found\");\n",
        " }\n",
        "}"
      ]
    }
  ]
}